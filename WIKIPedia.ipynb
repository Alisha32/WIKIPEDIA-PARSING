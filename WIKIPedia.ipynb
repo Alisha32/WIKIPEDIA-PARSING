{
  "nbformat": 4,
  "nbformat_minor": 0,
  "metadata": {
    "colab": {
      "provenance": []
    },
    "kernelspec": {
      "name": "python3",
      "display_name": "Python 3"
    },
    "language_info": {
      "name": "python"
    }
  },
  "cells": [
    {
      "cell_type": "code",
      "execution_count": 1,
      "metadata": {
        "id": "nvZt7X07elMD",
        "colab": {
          "base_uri": "https://localhost:8080/"
        },
        "outputId": "0588c58c-9af5-45ae-8744-a3ea567ed7eb"
      },
      "outputs": [
        {
          "output_type": "stream",
          "name": "stdout",
          "text": [
            "Looking in indexes: https://pypi.org/simple, https://us-python.pkg.dev/colab-wheels/public/simple/\n",
            "Collecting wikipedia\n",
            "  Downloading wikipedia-1.4.0.tar.gz (27 kB)\n",
            "  Preparing metadata (setup.py) ... \u001b[?25l\u001b[?25hdone\n",
            "Requirement already satisfied: beautifulsoup4 in /usr/local/lib/python3.10/dist-packages (from wikipedia) (4.11.2)\n",
            "Requirement already satisfied: requests<3.0.0,>=2.0.0 in /usr/local/lib/python3.10/dist-packages (from wikipedia) (2.27.1)\n",
            "Requirement already satisfied: urllib3<1.27,>=1.21.1 in /usr/local/lib/python3.10/dist-packages (from requests<3.0.0,>=2.0.0->wikipedia) (1.26.16)\n",
            "Requirement already satisfied: certifi>=2017.4.17 in /usr/local/lib/python3.10/dist-packages (from requests<3.0.0,>=2.0.0->wikipedia) (2023.5.7)\n",
            "Requirement already satisfied: charset-normalizer~=2.0.0 in /usr/local/lib/python3.10/dist-packages (from requests<3.0.0,>=2.0.0->wikipedia) (2.0.12)\n",
            "Requirement already satisfied: idna<4,>=2.5 in /usr/local/lib/python3.10/dist-packages (from requests<3.0.0,>=2.0.0->wikipedia) (3.4)\n",
            "Requirement already satisfied: soupsieve>1.2 in /usr/local/lib/python3.10/dist-packages (from beautifulsoup4->wikipedia) (2.4.1)\n",
            "Building wheels for collected packages: wikipedia\n",
            "  Building wheel for wikipedia (setup.py) ... \u001b[?25l\u001b[?25hdone\n",
            "  Created wheel for wikipedia: filename=wikipedia-1.4.0-py3-none-any.whl size=11680 sha256=49d02a321b12aec009769f3b45ab6bcb869fd01ff0757e15d14c0a4bd9374939\n",
            "  Stored in directory: /root/.cache/pip/wheels/5e/b6/c5/93f3dec388ae76edc830cb42901bb0232504dfc0df02fc50de\n",
            "Successfully built wikipedia\n",
            "Installing collected packages: wikipedia\n",
            "Successfully installed wikipedia-1.4.0\n"
          ]
        }
      ],
      "source": [
        "!pip install wikipedia"
      ]
    },
    {
      "cell_type": "code",
      "source": [
        "#IMPORTING WIKIPEDIA\n",
        "import wikipedia as wk"
      ],
      "metadata": {
        "id": "vR0qbmEUA83m"
      },
      "execution_count": 2,
      "outputs": []
    },
    {
      "cell_type": "code",
      "source": [
        "#Searching\n",
        "print(wk.search(\"Alisha\"))\n",
        "#Limiting The Search\n",
        "print(wk.search(\"Alisha\",results=1))"
      ],
      "metadata": {
        "colab": {
          "base_uri": "https://localhost:8080/"
        },
        "id": "10NVr5kgBC-2",
        "outputId": "3c2a07e4-19c3-42d2-f7e9-7f6a969f742a"
      },
      "execution_count": 4,
      "outputs": [
        {
          "output_type": "stream",
          "name": "stdout",
          "text": [
            "['Alisha', 'Alisha Lehmann', 'Alisha Wainwright', 'Alisha Boe', 'Alisha Weir', 'Alisha Newton', 'Alisha Chinai', 'Alisha Singh', 'Alisha Klass', 'Tara Alisha Berry']\n",
            "['Alisha']\n"
          ]
        }
      ]
    },
    {
      "cell_type": "code",
      "source": [
        "#Summary\n",
        "print(wk.summary(\"IIT Madras\"))\n",
        "#Restricting The Summary\n",
        "print(wk.summary(\"IIT Madras\",sentences=2))"
      ],
      "metadata": {
        "colab": {
          "base_uri": "https://localhost:8080/"
        },
        "id": "dbLWqng2BjMW",
        "outputId": "d3e8d864-fc3c-4bee-a1df-c1fc852f8508"
      },
      "execution_count": 14,
      "outputs": [
        {
          "output_type": "stream",
          "name": "stdout",
          "text": [
            "Indian Institute of Technology Madras (popularly known as IITM or IIT Madras) is a public technical university located in Chennai, Tamil Nadu, India. It is selected as one of the 8 public Institutes of Eminence of India. As one of the Indian Institutes of Technology (IITs), it is recognized as an Institute of National Importance. IIT Madras is ranked among the most prestigious academic institutions in India.Founded in 1959 with technical and financial assistance from the former government of West Germany, it was the third Indian Institute of Technology established by the Government of India. IIT Madras is ranked the top engineering institute in India by the Ministry of Education's National Institutional Ranking Framework since its inception in 2016. IIT Madras secured the first spot with a score of 90.04 in the National Institute Ranking Framework.\n",
            "Indian Institute of Technology Madras (popularly known as IITM or IIT Madras) is a public technical university located in Chennai, Tamil Nadu, India. It is selected as one of the 8 public Institutes of Eminence of India.\n"
          ]
        }
      ]
    },
    {
      "cell_type": "code",
      "source": [
        "#FETCHOING FULL PAGE\n",
        "full_page = wk.page(\"IIT Madras\")\n",
        "# content\n",
        "print(full_page.content)"
      ],
      "metadata": {
        "colab": {
          "base_uri": "https://localhost:8080/"
        },
        "id": "b1ISFeVNB-jf",
        "outputId": "ef7b0298-b21a-44ab-a5a8-70196f8ef3c4"
      },
      "execution_count": 17,
      "outputs": [
        {
          "output_type": "stream",
          "name": "stdout",
          "text": [
            "Indian Institute of Technology Madras (popularly known as IITM or IIT Madras) is a public technical university located in Chennai, Tamil Nadu, India. It is selected as one of the 8 public Institutes of Eminence of India. As one of the Indian Institutes of Technology (IITs), it is recognized as an Institute of National Importance. IIT Madras is ranked among the most prestigious academic institutions in India.Founded in 1959 with technical and financial assistance from the former government of West Germany, it was the third Indian Institute of Technology established by the Government of India. IIT Madras is ranked the top engineering institute in India by the Ministry of Education's National Institutional Ranking Framework since its inception in 2016. IIT Madras secured the first spot with a score of 90.04 in the National Institute Ranking Framework.\n",
            "\n",
            "\n",
            "== History ==\n",
            "\n",
            "In 1956, the West German Government offered technical assistance for establishing an institute of higher education in engineering in India. The first Indo-German agreement was signed in Bonn, West Germany in 1959 for the establishment of the Indian Institute of Technology at Madras. IIT Madras was started with technical, academic and financial assistance from the Government of West Germany and was at the time the largest international educational project sponsored by the West German government. The Government of the Federal Republic of Germany has agreed to provide the following assistance in the establishment of a higher technological institute at Madras:\n",
            "\n",
            "A workshop, laboratory equipment, and a library whose total value does not exceed ₹1.8 crore (US$230,000).\n",
            "Twenty German professors to serve at the Institute for a period of four to five years\n",
            "Four German foremen for the workshops of the Institute for 2 years\n",
            "Facilities for the training of twenty Indian teachers in German institutionsThis has led to several collaborative research efforts with universities and institutions in Germany over the years. Although official support from the German government has ended, several research efforts involving the DAAD programme and Humboldt Fellowships still exist.\n",
            "The Higher Technological Institute at Madras known as the Indian Institute of Technology, Madras has started functioning The first batch of 120 students was admitted in July 1959 to the first year of the Engineering Course. The institute was inaugurated in 1959, by the then Union Minister for Scientific Research and Cultural Affairs. The first batch had an overall strength of 120 students from across India. In 1961, the IITs were declared to be Institutes of National Importance. The first convocation ceremony was held on 11 July 1964, with Dr. S. Radhakrishnan, then the President of India, delivering the convocation address and awarding the degrees to the inaugural batch of students. The institute got its first women students in the BTech batch of 1966. IIT Madras celebrated its Golden Jubilee in 2009, and its Diamond Jubilee in 2019.\n",
            "\n",
            "\n",
            "== Campus ==\n",
            "The main entrance of IIT Madras is on Sardar Patel Road, flanked by the residential districts of Adyar and Velachery. The campus is close to the Raj Bhavan, the official seat of the Governor of Tamil Nadu. Other entrances are located in Velachery (near Anna Garden MTC bus stop, Velachery Main Road), Gandhi Road and Taramani gate (close to Ascendas Tech Park).\n",
            "The campus is located 10 km (6.2 mi) from the Chennai Airport, 12 km (7.5 mi) from the Chennai Central Railway station, and is connected by city buses. Kasturba Nagar is the nearest station on the Chennai MRTS line.\n",
            "Two parallel roads, Bonn Avenue and Delhi Avenue, cut through the faculty residential area before they meet at the Gajendra Circle, near the Administrative Block. Buses regularly ply between the Main Gate, Gajendra Circle, the Academic Zone, and the Hostel Zone.\n",
            "It is likely to set up an offshore campus in Tanzania in Africa as part of the Central govt's IIT expansion plans in abroad.\n",
            "\n",
            "\n",
            "=== Student Hostels ===\n",
            "Most students at IIT Madras reside in hostels, where extracurricular activities complement the academic routine. The campus has 20 hostels, of which four, Sharavati, Sarayu, Sabarmati and the recently constructed Tunga are exclusively for women. In earlier times, each hostel had attached dining facilities but all of them have since been closed down. Dining facilities are provided in three centralised halls: Nilgiri, Vindhya and Himalaya. Students are assigned to hostels upon matriculation, where they usually reside for the entire duration of their course of study.\n",
            "\n",
            "The halls of IITM are:\n",
            "\n",
            "Sindhu, Pampa, Mahanadhi and Tamiraparani are seven-storeyed whereas all the other hostels are three or four storeyed. These four hostels can accommodate more than 1,200 students. The older hostels were all three-storeyed till the early 2000s when extra rooms were added. An additional new floor in the three-storeyed hostels which generally house the undergraduate students and a new block in place of the mess halls of these hostels have been constructed to accommodate for the increased intake of the students. These new blocks could be used as entrances for these hostels. As of 2020, Mandakini has been demolished and a multi-storey block is under construction, with provision to accommodate approximately 1000 students.\n",
            "\n",
            "\n",
            "=== Facilities ===\n",
            "IIT Madras provides residential accommodation for its students, faculty, administrative and supporting staff, and their families. The residential houses employ private caterers. The self-contained campus includes two schools               (Vanavani and Kendriya Vidyalaya), three temples (Jalakanteshwara, Durga Peliamman and Ganapathi), three bank branches (SBI, ICICI, Canara Bank), a hospital, shopping centres, food shops, a gym, sleeping room and cricket, football, hockey and badminton stadiums. Internet is available in the academic zone and the faculty and staff residential zone. Earlier Internet was limited in hostel-zone from 2:00 pm till midnight and from 5:00 am to 8:00 am, but increasing demand during academic semester led to round-the-clock Internet service.IIT Madras also has supercomputing capability, with the IBM Virgo Super Cluster with 97 teraflops worth of computational power.\n",
            "\n",
            "\n",
            "== Organisation and administration ==\n",
            "\n",
            "\n",
            "=== Governance ===\n",
            "IIT Madras is an autonomous statutory organisation functioning within the Institutes of Technology Act. The twenty three IITs are administered centrally by the IIT Council, an apex body established by the Government of India. The Minister of Human Resources and Development is the chairman of the council. Each institute has a Board of Governors responsible for its administration and control. The Finance Committee advises on matters of financial policy, while the Building and Works Committee advises on buildings and infrastructure.\n",
            "The Senate comprises all professors of the Institute and decides its academic policy. It controls and approves the curriculum, courses, examinations, and results. It appoints committees to examine specific academic matters. The Director of the institute serves as the Chairman of the Senate. The current director (appointed in 2022) is Kamakoti Veezhinathan, who obtained his Ph.D. and M.S in CSE from IIT Madras.\n",
            "Three Senate Sub-Committees – The Board of Academic Research, The Board of Academic Courses and The Board of Students – help in academic administration and in the operations of the institute.  The Board of Industrial Consultancy and Sponsored Research addresses industrial consultancy and the Library Advisory Committee oversees library matters.\n",
            "\n",
            "\n",
            "== Departments ==\n",
            "IIT Madras has the following departments\n",
            "\n",
            "Aerospace Engineering\n",
            "Applied Mechanics\n",
            "Biotechnology(Bhupat and Jyoti Mehta School of Biosciences)\n",
            "Chemical Engineering\n",
            "Chemistry\n",
            "Civil Engineering\n",
            "Computer Science and Engineering (CSE)\n",
            "Electrical Engineering (EE)\n",
            "Engineering Design\n",
            "Humanities and Social Sciences (HSS)\n",
            "Management Studies (DOMS)\n",
            "Mathematics (MA)\n",
            "Mechanical Engineering (ME)\n",
            "Medical Science and Technology (MST)\n",
            "Metallurgical and Materials Engineering\n",
            "Ocean Engineering\n",
            "Physics\n",
            "\n",
            "\n",
            "== Academics ==\n",
            "IIT Madras offers undergraduate, postgraduate and research degrees across 17 disciplines in Engineering, Science, Humanities and Management. About 600 faculty belonging to science and engineering departments and centres of the Institute are engaged in teaching, research and industrial consultancy.\n",
            "The institute has 16 academic departments and advanced research centres across disciplines of engineering and pure sciences, with nearly 100 laboratories. The academic calendar is organised around the semester. Each semester provides a minimum of seventy days of instruction in English. Students are evaluated on a continuous basis throughout the semester. Evaluation is done by the faculty, a consequence of the autonomous status granted to the institute. Research work is evaluated on the basis of the review thesis by peer examiners both from within the country and abroad. Ordinances that govern the academic programme of study are prepared by the Senate, the highest academic body within the institute.\n",
            "IITM is also gearing up to launch a new and completely online BEd degree programme in Maths and Computing to improve maths teaching in schools, as said by the Director at the G20 seminar at IIT Madras.\n",
            "\n",
            "\n",
            "== Admission tests ==\n",
            "For the undergraduate curriculum, admission to the BTech and Dual Degree (BSc + MSc or BTech + MTech) programme is done through the Joint Entrance Examination – Advanced (JEE-Advanced). IIT Madras conducted JEE Advanced in 2017. Admission criteria to the five-year integrated Master of Arts (MA) programme is changed as Humanities and Social Sciences Entrance Examination (HSEE), an IIT Madras specific exam is not conducted from 2023. Admissions to the 4 year BS degree programme for in Data Science and Applications are done through 2 channels: JEE and their own entrance test (which is held in CBT mode across various TCS exam centres, same as any other competitive exam is held in India) called the Qualifier exam which includes questions from Computational Thinking, Mathematics, Statistics and English.For the postgraduate curriculum, admission to the MTech and MS programmes are through the Graduate Aptitude Test in Engineering (GATE); after 2022, with the discontinuation of 5 year integrated MA program and the same becoming a 2-year PG program, admissions is through GATE for the MA program also. The Joint Admission Test to MSc (JAM) is the entrance exam for the two-year MSc programme, and other post BSc programmes. MBA candidates are accepted through the Common Admission Test (CAT).\n",
            "\n",
            "\n",
            "== Rankings ==\n",
            "Internationally, IIT Madras was ranked 250 in the QS World University Rankings of 2023 and 53 in Asia. It was ranked 701–800 in the world by the Academic Ranking of World Universities of 2022.IIT Madras also ranked 1ST among engineering colleges by the National Institutional Ranking Framework (NIRF) in 2022 and first overall.\n",
            "IIT Madras BS in Data Science won Silver in the Wharton (University of Pennsylvania) - QS Reimagine Education Awards\n",
            "\n",
            "\n",
            "=== Grading System and Student Evaluation ===\n",
            "The Indian Institutes of Technology are under control of the Government of India and therefore have strict rules for grading. Depending on the course the evaluation is based on participation in class, attendance, quizzes, exams and/or papers. Continuous evaluation is done by course instructors.\n",
            "The Evaluation System of IIT Madras which is also used in other IITs is the Cumulative Grade Point Average with a scale from 0 to 10 which is converted to letters:\n",
            "\n",
            "CGPA then gets calculated as the cumulative credit-weighted average of the grade points:\n",
            "CGPA = (Σ Ci • GPi) / (Σ Ci)\n",
            "where:\n",
            "N is the number of courses\n",
            "Ci is credits for the ith course\n",
            "GPi is grade points for the ith course\n",
            "CGPA is the cumulative grade point average\n",
            "The CGPA is not the same as the one commonly used in the United States.\n",
            "In India some credits might be awarded during Bachelor studies for Co-curricular and Extra-curricular Activities, while during the Master Programme this is not allowed.\n",
            "Through agreements with numerous international organisations, IIT grades are accepted from many international organisations like NTU, NUS and DAAD.\n",
            "Additionally, the attendance of the students is evaluated with VG for very good (always present), G for good (not present every lecture) and P for poor (student was present less than 85% of lectures).\n",
            "\n",
            "\n",
            "=== Academic research programmes ===\n",
            "The institute has departments and advanced research centres across the disciplines of engineering and the pure sciences, and nearly 100 laboratories.Research programmes concern work undertaken by faculty members or specific research groups within departments that award an MS or PhD degree. Research is carried out by scholars admitted into these departmental programmes, under the guidance of their faculty.  Each department makes known its areas of interest to the academic community through handbooks, brochures and bulletins. Topics of interest may be theoretical or experimental. IIT Madras has initiated 16 inter-disciplinary research projects against identified focus areas.\n",
            "\n",
            "\n",
            "=== Partnership with other universities ===\n",
            "The institute maintains academic friendship with educational institutes around the world through faculty exchange programmes. The institute has signed Memoranda of Understanding (MOUs) with foreign universities, resulting in cooperative projects and assignments.\n",
            "\n",
            "\n",
            "=== Industrial Consultancy and Sponsored Research (ICSR) ===\n",
            "Through industrial consultancy, faculty and staff undertake industry assignments that may include project design, testing and evaluation, or training in new areas of industrial development. Industries and organisations like the Indian Ordnance Factories, reach out to the IIT faculty to undertake assignments channeled through the Centre For Industrial Consultancy and Sponsored Research (ICSR).\n",
            "National organisations sponsor programmes of research by funding projects undertaken by the faculty. Such research is time bound and allows project participants to register for a degree.  Project proposals are usually prepared by the IIT faculty and forwarded to interested organisations, based on the nature of their research and their interest to fund such projects.\n",
            "Sponsored projects are often vehicles for new resources within departments, and often permit their project staff to register for academic degrees in the institute. All sponsored research activities at the institute are coordinated by ICSR.\n",
            "The IIT Madras Research Park, the first of its kind to be established in India, functions to promote innovation in established companies and provide a nurturing ecosystem to startups through incubation efforts and technical infrastructure. Following its success, 50 research parks were planned as part of the Start Up India initiative of the Central Government of India. Corporate clients of IIT Madras Research park include Bharat Heavy Electricals Limited, Saint-Gobain and Forbes Marshall. Ather Energy, Hyperverge and Gyandata are some of the startups incubated at the Research Park. The Research Park is a prime driver for the very large number of startups incubated at IIT Madras.\n",
            "\n",
            "\n",
            "=== National Programme on Technology Enhanced Learning (NPTEL) ===\n",
            "To improve the quality of higher education in India, IIT Madras came up with an initiative called NPTEL (National Programme on Technology Enhanced Learning) in the year 2003. As per this initiative, all the IITs, along with the IISc Bangalore would come up with a series of video lecture based courses across all the streams of engineering. This initiative has gained wide popularity in India and the lectures are being used by several engineering students from across India. It is the largest online repository in the world of courses in engineering, basic sciences and selected humanities and social sciences subjects.\n",
            "\n",
            "\n",
            "=== IITM Research Park ===\n",
            "IITM Research Park is India's first university-based research park.\n",
            "\n",
            "\n",
            "=== IOE-IITM Research Initiatives ===\n",
            "As an Institute of Eminence, IITM has opened various research centres that include important domains like AI and Data Sciences, Big networks, complex systems, Chemistry, earth sciences, Maths and cyber security, Ocean technology, Quantum science and techology and Sensing and vision, etc. Visit here for more information.\n",
            "\n",
            "\n",
            "=== Pravartak ===\n",
            "IITM Pravartak is funded by the Department of Science and Technology, GOI, under its National Mission on Interdisciplinary Cyber-Physical Systems, and it's hosted as a Technology Innovation Hub (TIH) by IIT Madras. It focuses on Technology, Entrepreneurship and Human resource skill development through various initiatives. It provides hands on programmes, hybrid courses like Out of the Box thinking in Maths, Winter school on Advanced Quantum Computing, Wireless Networks, Blockchains and others.\n",
            "\n",
            "\n",
            "== Modern and Advanced Technologies, Courses IITM ==\n",
            "\n",
            "\n",
            "=== BS Degree in DSA ===\n",
            "The institute launched the world's first 4 year full time UG Bachelor of Science degree (BS) program in Data Science and Applications in 2022 (which is one of the best & quality under-grad degrees in the field of AI/ML/DS in the world) with unique flexible exit options as per the NEP, which was earlier a virtual 3 year BSc degree programme in Programming and Data science (POD) (in 2020). The program is rigorous in its delivery, just as any other program from IIT Madras. The 142 credit program consists of three levels - Foundation (32 credits), Diploma (54 credits), and Degree (56 credits). and a total of 36 theory courses and 4 project courses. The degree programme is currently being run in a hybrid mode with the course-wise best of the faculty members across India. The renowned faculty from the 1st year of this Data science dept. include faculty Madhavan Mukund (Director, Chennai Mathematical Institute), Rajesh Kumar (Professor, Department of Humanities and Social Sciences, IIT Madras), Andrew Thangaraj (Professor, Electrical Engineering Department, IIT Madras), Sudarshan Iyengar (Associate Professor & HOD, Department of Computer Science and Engineering, IIT Ropar), and several more faculty, instructors and mentors from IITs and other renowned and eminent institutions.\n",
            "The IIT Madras BS in DSA currently follows a tri-mester academic system, where each academic year is divided into 3 terms (i.e. 3 semesters) each of 4 months duration: Jan-April (Winter), May–August (Spring) and Sept-Dec (Fall)\n",
            "Every semester, there are 3 exams which include the Quiz1, Quiz2 (similar to mid-sem) and finally the End sem/end term exams all of which are conducted offline at designated examination centres. The CGPA calculation and grading patterns are similar to the BTech system as mentioned above. However, to add to the difficulty, there's a unique concept of CCC (Credit Clearing Capacity). Based on the academic performance of a student during the previous term, CCC is decided for every student. The CCC decides the maximum number of courses a student can opt for, during semester/term registration.\n",
            "IIT Madras has also opened study-rooms on campus for the DS students to come, study and access all the opportunties of the institute. Presently, this day-scholar kind of opportunity is mostly used by the students residing in Chennai.\n",
            "The latest change is that students will be accommodated at IITM campus hostels and they can study offline from any Engineering dept/ on-campus courses at the degree levels of Data Science.\n",
            "In additional to a challenging and difficult academic curriculum, the students are also encouraged to participate in various professional development, seminars, research activities, internship, apprenticeship opportunities, skill development, training and social activities organized by the institute, faculty and the official societies & clubs.\n",
            "\n",
            "\n",
            "=== Robert Bosch Centre for Data Science and AI (RBCDSAI) ===\n",
            "The RBCDSAI was set up in 2017 with a funding from the Institute to encourage interdisciplinary research. In the last 5 years, it has grown to be the pre-eminent interdisciplinary research centre for Data Science and AI in India and is one of the country's largest groups in network analytics and deep reinforcement learning.\n",
            "Google has granted IIT Madras $1 million for setting up India's first multidisciplinary centre for Responsible AI.The official IITM approved societies and clubs under the BS in DS branch include:\n",
            "Ramanujan Society For Research (RaSoR), Pravaha (Dance society), Anime society, Adhyay (civil services society), Raahat (Mental health and wellness society), Cosmos (Tech society), Erudite (Oratory society), Art Society, Sahityika (Literary society), Film society, Heighters (esports club), WYZ Kids (Quiz club), Akord (Music society), Aayam (Drama society) and Shah Maat (Chess society)\n",
            "The Upper House Council (UHC) is the ultimate student body elected by the students that consists of 36 representatives from the students, 3 from each house who are elected as the Secretary, Deputy Secretary and the Web Admin from the pool of Group Leaders.\n",
            "The 12 houses of the degree, named after the forests in India. include Bandipur, Corbett, Gir, Kanha, Kaziranga, Nallamala, Namdapha, Nilgiri, Pichavaram, Saranda, Sundarbans and Wayanad.\n",
            "In April 2021, the BS program department organized the Cricket Hackathon 2021 for students, professionals, and data science enthusiasts. The academic competition was designed for beginners to learn and compete, as well as for professionals to showcase their capabilities in programming, data science, and analytics.IIT Madras BS in Data Science won the Wharton-QS Reimagine Education Awards (Silver).\n",
            "\n",
            "\n",
            "==== BS DSA Stats-Maths Academic Cell ====\n",
            "The IITM BS Stats-Maths academic cell was officially inaugurated on 12 November 2022, in presence of the eminent mathematicians Dr. Ritabrota Munshi, Head of Theoritical statistics and maths unit, Indian Statistical Institute (ISI) Kolkata and Dr. Saket Saurabh, professor of Theoretical Computer Science from IMSc.\n",
            "\n",
            "\n",
            "=== Scholarships at IITM BS ===\n",
            "Students at IITM pursuing BS in DS get income based (who have low family income) fee-waivers each term. Also students belonging to EWS, SC/ST, OBC and PwD categories get these waivers.\n",
            "Recently, Cargill, a US-global food and agriculture corporation, in partnership with IIT Madras has announced Merit-cum-Means Scholarship. The Cargill Scholarship enables over 100 students from low-income background to fulfil their dream by pursuing higher education at IITM.\n",
            "\n",
            "\n",
            "=== Diploma Courses at IITM ===\n",
            "IITM also offers Diploma in Programming and Diploma in Data Science separately. Students who've completed a UG degree or have completed at least two years of an undergrad degree are eligible to sit for the DAD qualifier exam (duration: 3 hours for Diploma in programming and 4 hours for that of Data science) which serves as the entrance test for these programmes.\n",
            "\n",
            "\n",
            "=== BS Degree in Electronic Systems (ES) ===\n",
            "IITM launched the 4-yr BS undergrad degree in Electronic Systems (ES) in March 2023 to meet the significant and growing demand for skilled graduates in the electronics and embedded systems sector in India. This programme would also run in hybrid mode. The faculty coordinators of this dept. include Dr Aniruddhan and Dr Boby George from Dept. of Electrical Engineering at IITM.\n",
            "Students need to have Physics and Maths in class 12 as mandatory requirements to apply for the degree. Students can apply through JEE channel or their own entrance or qualifier examination.\n",
            "Unlike the BS in DSA which follows a tri-mester curriculum, this will follow a semester system (2 semesters per year) with the same concept of 2 in-centre quizzes and an end term exam in each semester.\n",
            "Keeping in line with the new NEP, IITM has provided a flexibility to exit earlier with a Foundation Certificate or Diploma. However, one needs to complete 142 credits to achieve the BS degree in ES.\n",
            "\n",
            "\n",
            "== Student activities ==\n",
            "\n",
            "\n",
            "=== Festivals ===\n",
            "\n",
            "\n",
            "==== E-Summit IIT Madras ====\n",
            "\n",
            "E-Summit by the Entrepreneurship Cell E-Cell of IIT Madras, is IITM’s annual flagship event and only ISO 9001:2015 certified entrepreneurship summit focusing on young entrepreneurs and their ventures.\n",
            "\n",
            "\n",
            "==== Shaastra ====\n",
            "\n",
            "Shaastra is the annual technical festival of IIT Madras. It is typically held in the second week of January and is the first ISO 9001:2015 certified student organised festival in the world. It is known for its organisation and activities. Forums include the symposia, workshops, video conferences, lectures, demonstrations, and technical exhibitions. Competitive activities cover design events, programming, simulations, quizzes, applied engineering, speedcubing, robotics, and junk-yard wars.\n",
            "\n",
            "\n",
            "==== Saarang ====\n",
            "\n",
            "Saarang is the annual social and cultural festival of IIT Madras. It is a five-day-long event held in early January every year and attracts a crowd of 70,000 students and young people from across the country, making it the largest student-run fest in India. Saarang events include speaking, dancing, thespian, quizzing and word games, professional shows (nicknamed proshows) and workshops on music, fashion, art, and dance.\n",
            "\n",
            "\n",
            "==== Paradox ====\n",
            "Paradox is the fest organized for the IIT Madras Bachelor of Science degree students. It is held 3 times a year. Paradox in Saavan and Paradox in Margazhi are held hybrid around August and December respectively and consist of various cultural, sports, professional events, hackathons. The main annual fest is held at the IITM campus. It's the biggest gathering of IITM students that happens in the month of May every year.\n",
            "\n",
            "\n",
            "==== Department festivals ====\n",
            "Several departments organise department festivals. Samanvay, Biofest, ExeBit, Wavez, Mechanica, CEA Fest, ChemPlus, Amalgam and Forays are some of the festivals organised by the Department of Management Studies, Computer Science and Engineering, Ocean Engineering, Mechanical Engineering, Civil Engineering, Chemical Engineering, Metallurgical and Materials Engineering and Maths departments respectively. Department of Humanities and Social Sciences hosts Annual Academic Conference.\n",
            "\n",
            "\n",
            "=== The Entrepreneurship Cell ===\n",
            "The Entrepreneurship Cell at IIT Madras believes that entrepreneurship is not just about starting companies and building businesses but a pathway towards India’s socio-economic development. E-Cell was earlier known as C-TIDES, and was rechristened in 2015 as the entrepreneur.\n",
            "E-Cell IIT Madras is an active non-profit, a completely student-run organization to help encourage entrepreneurship.\n",
            "\n",
            "\n",
            "=== Centre For Innovation (CFI) ===\n",
            "Centre For Innovation is a Student Lab set up in 2008.\n",
            "The annual flagship event of CFI, the Open House displays the projects of all CFI clubs, along with the works of the Competitive Teams.\n",
            "\n",
            "\n",
            "=== Extra Mural Lectures (EML) ===\n",
            "Launched in 1980 by a group of students with support from the then Director of IIT Madras, the late Prof. P.V. Indiresan, the main aim of the Extra Mural Lectures series is to expose the IIT Madras community to the ideas and experiences of eminent personalities from diverse backgrounds. Over the years, lectures included the late former President of India A.P.J. Abdul Kalam, Nobel Laureate The 14th Dalai Lama, Nobel Peace Laureate Kailash Satyarthi, Chess Grandmaster Vishwanathan Anand, Filmmaker S.S. Rajamouli, Honorable Governor Shri. E.S.L. Narasimhan, Honorable Minister of Railways Shri. Suresh Prabhu, current Vice President of India Shri. M.Venkaiah Naidu, Music Composer Ilayaraja, co-founder of Infosys Shri. Kris Gopalakrishnan and Ambassador of Japan to India H.E. Mr. Kenji Hiramatsu have been hosted at IIT Madras for Extra Mural Lectures, to motivate the students and broaden their perspectives.\n",
            "\n",
            "\n",
            "=== Extracurricular activities ===\n",
            "\n",
            "The Sustainability Network (S-Net) is an alumni-student-faculty initiative launched in May 2009 to help preserve the unique niche of one of the best educational campus in India. S-Net was envisioned to work towards developing and deploying solutions for making a self-sustaining campus (focusing on energy/electricity, water, and waste management), which could eventually be replicated across the country through tie-ups with other educational institutions. \n",
            "The Fifth Estate is the official media body of IIT Madras and gives an insight into the happenings inside the campus and important news related to the institute.\n",
            "The Open Air Theatre hosts the weekly movie, a Saturday night tradition, besides other activities. It seats over 7,000.\n",
            "The National Service Scheme (Nss Iitm) Archived 23 June 2012 at the Wayback Machine. Nss Iitm. Retrieved on 9 October 2013.</ref> (NSS) in IIT Madras has been noted for taking up socially relevant initiatives, taken up as individual projects to create an impact on the society as well as the students. The wing of NSS at IITM has over 400 students every year, contributing to the cause of the scheme. Since its inception, NSS at IITM has achieved many milestones in its history as a unique, student-run organisation. Linked with several NGOs and social organisations both within and outside Chennai. By working out projects from Braille magazines to technology interventions, from teaching children in urban slums to educational video content, NSS (IITM) seeks to challenge the mediocre thinking, and reach out into the darkness, to pull a hand into the light.\n",
            "Hobby clubs include the speaking club, the astro club, dramatics, music and robotics.\n",
            "Student bodies such as Vivekananda Study Circle (VSC), Islamic Study Circle, IIT Christian Fellowship, Genesis and Reflections focus on spiritual discussions.\n",
            "The campus has evolved a slang, attracting a published Master's thesis at a German University. A mix of English, Hindi, Telugu (Gult), Malayalam (Mallu) and Tamil (Tam), aspects of the campus slang have been adopted by some other Chennai colleges.\n",
            "Unlike its sister institutions, IIT Madras has no single Indian language used among its students: Tamil, Telugu, Malayalam, Marathi, Kannada, English and Hindi are all very commonly used. All student participatory activities like debating, dramatics, short-film making, and others are held in English.  This is even reflected in the slang that uses more of English and other Indian regional languages than Hindi, unlike in IIT-M's northern counterparts.\n",
            "\n",
            "\n",
            "=== IIT Madras Heritage Centre ===\n",
            " The Heritage Centre was formally inaugurated by Dr Arcot Ramachandran, former Director IIT Madras on 3 March 2006. The centre is located on the ground floor of the administration building. The actual idea of a Heritage Centre was mooted in the year 2000 and has become a reality due to the efforts of the Professor-in-charge Dr. Ajit Kumar Kolar and his team. The centre will function as a repository of material of heritage value and historical significance of various facets of the institute.\n",
            "The exhibits include photographs, documents, publications, paintings, portraits, products developed and other articles. Information regarding important events, laboratory development, visits of important dignitaries, Indo-German cooperative activities, and academic achievements of faculty and students also are included. Aspects of IITM campus features and development, campus life and student activities are also included, thus broadening the scope of the centre in the future to non-academic activities also.\n",
            "\n",
            "\n",
            "== Controversies ==\n",
            "Several members of the Hindu Munnani were arrested in November 2014 for organising a \"spitting protest\" outside the IIT-Madras after the institute played host to the ‘Kiss of Love’ campaign. The members of the group gathered and started spitting at the pictures of students kissing and hugging at the kiss of love campaign the past week. Additionally, they also hurled abuse at the students.\n",
            "\n",
            "\n",
            "== Notable alumni ==\n",
            "\n",
            "Arumugam Manthiram, director, Texas Materials Institute, Professor of Mechanical Engineering, University of Texas at Austin\n",
            "Anand Rajaraman, founder of Junglee; Currently Heading Kosmix.com with Venky Harinarayan\n",
            "Anant Agarwal, professor of Electrical Engineering and Computer Science at MIT\n",
            "Anima Anandkumar, Bren Professor of Computing at California Institute of Technology. She is a director of Machine Learning research at NVIDIA.\n",
            "Arun Sundararajan, professor at Stern School of Business, New York University\n",
            "Atul Chokshi, materials engineer, Shanti Swarup Bhatnagar laureate\n",
            "B. N. Suresh, director of IIST\n",
            "B. Muthuraman, managing Director of Tata Steel\n",
            "Balaji Sampath, founder of Ahaguru\n",
            "Bhaskar Ramamurthi, director, IIT Madras (2011 – 2022)\n",
            "Gururaj Deshpande, founder of Sycamore Networks\n",
            "T. V. Rajan Babu, professor of chemistry at Ohio State University\n",
            "G. K. Ananthasuresh, professor at Indian Institute of Science\n",
            "Hari Balakrishnan, Fujitsu Chair Professor in the EECS Department at MIT\n",
            "Jai Menon, IBM Fellow, CTO and VP, Technical Strategy – IBM Systems and Technology Group\n",
            "B. Jayant Baliga, inventor of the insulated gate bipolar transistor (IGBT)\n",
            "Jayaraman Chandrasekhar, computational chemist, Shanti Swarup Bhatnagar laureate\n",
            "Kris Gopalakrishnan, co-chairman and co-founder of Infosys\n",
            "Krishna Bharat, creator of Google News, principal scientist, Google\n",
            "L. Mahadevan, FRS, de Valpine Professor of Applied Mathematics, Physics and Biology, Harvard University, MacArthur Fellow 2009\n",
            "K. Mani Chandy, former chair of Engineering and Applied Science at Caltech\n",
            "Marti G. Subrahmanyam, professor of finance, Stern School of Business at New York University\n",
            "Murali Sastry, nanotechnologist, Shanti Swarup Bhatnagar laureate\n",
            "Mas Subramanian, Milton Harris Chair Professor of Materials Chemistry at Oregon State University\n",
            "Narayanan Chandrakumar, chemical physicist, Shanti Swarup Bhatnagar laureate\n",
            "Neelesh B. Mehta, communications engineer, Shanti Swarup Bhatnagar laureate\n",
            "Prabhakar Raghavan, vice president of Engineering, Google and Consulting Professor at Stanford University\n",
            "R. Prasanna, guitarist / carnatic musician\n",
            "Pinaki Majumdar, condensed matter physicist, Shanti Swarup Bhatnagar laureate\n",
            "Prem Watsa, billionaire; founder, chairman, and chief executive of Fairfax Financial Holdings, which owns BlackBerry\n",
            "Radha Vembu, co-founder, Zoho Corporation.\n",
            "Ramanathan V. Guha, inventor of RSS feed technology, computer scientist at Google; won the Distinguished Alumnus award from IIT Madras in 2013\n",
            "Ramesh Govindan, Northrop Grumman Chair in Engineering and Professor of Computer Science and Electrical Engineering at the University of Southern California; won the Distinguished Alumnus award from IIT Madras in 2014\n",
            "Raghu Ramakrishnan, technical fellow and CTO, Information Services Microsoft\n",
            "Raju Narayana Swamy, IAS Officer\n",
            "Ramayya Krishnan, dean of the Heinz College at Carnegie Mellon University\n",
            "S. Sowmya, carnatic vocalist\n",
            "Timothy A. Gonsalves, computer scientist and first Director of IIT Mandi\n",
            "Shashi Nambisan, director of the Centre for Transportation Research and Education at Iowa State University\n",
            "Sridhar Tayur, Ford Distinguished Research Chair and Professor of Operations Management at Carnegie Mellon University; founder, SmartOps and OrganJet\n",
            "Sridhar Vembu, founder and CEO of Zoho Corporation\n",
            "Subra Suresh, former president of Carnegie Mellon University, former director of the National Science Foundation, former dean of the MIT School of Engineering\n",
            "Venkat Rangan, co-founder and CTO at Clearwell Systems\n",
            "Venkatesan Guruswami, associate professor, Department of Computer Science, Carnegie Mellon University\n",
            "Venky Harinarayan, co-founder Kosmix\n",
            "Vic Gundotra, former senior vice president Google, creator of Google plus and MIT technology Review top innovators in world\n",
            "Vinay Nair, visiting professor at The Wharton School and founding principal of Ada Investments\n",
            "Viswanathan Kumaran, chemical engineer, Shanti Swarup Bhatnagar laureate\n",
            "\n",
            "\n",
            "== See also ==\n",
            "Education in India\n",
            "Institutes of National Importance\n",
            "List of institutions of higher education in India\n",
            "List of universities in India\n",
            "\n",
            "\n",
            "== References ==\n",
            "\n",
            "\n",
            "== External links ==\n",
            "\n",
            "Official website\n"
          ]
        }
      ]
    },
    {
      "cell_type": "code",
      "source": [
        "# URL\n",
        "print(full_page.url)"
      ],
      "metadata": {
        "colab": {
          "base_uri": "https://localhost:8080/"
        },
        "id": "zlYvuqt5Dne7",
        "outputId": "3808331c-4eec-45ce-97ed-2ea0614fa74b"
      },
      "execution_count": 18,
      "outputs": [
        {
          "output_type": "stream",
          "name": "stdout",
          "text": [
            "https://en.wikipedia.org/wiki/IIT_Madras\n"
          ]
        }
      ]
    },
    {
      "cell_type": "code",
      "source": [
        "#REFERENCES\n",
        "\n",
        "print(full_page.references)"
      ],
      "metadata": {
        "colab": {
          "base_uri": "https://localhost:8080/"
        },
        "id": "2WNZoBs5DrWW",
        "outputId": "e3ac939d-0d60-43b6-c064-a09bae374602"
      },
      "execution_count": 19,
      "outputs": [
        {
          "output_type": "stream",
          "name": "stdout",
          "text": [
            "['http://www.businessweek.com/smallbiz/news/date/9811/e981130.htm', 'http://www.hindu.com/2009/02/28/stories/2009022854140500.htm', 'http://timesofindia.indiatimes.com/tech/tech-news/IIT-Madras-is-Indias-Stanford/articleshow/46629160.cms', 'http://www.shanghairanking.com/rankings/arwu/2022', 'http://www.thehindu.com/sci-tech/technology/iitm-computer-system-gets-fastest-tag/article3972727.ece', 'http://archiv.tu-chemnitz.de/pub/2006/0020/data/MAthesis_EvelynRichter.pdf', 'http://www.oeb.harvard.edu/faculty/mahadevan/mahadevan-oeb.html', 'http://www.csail.mit.edu/user/723', 'http://nms.lcs.mit.edu/~hari/', 'http://uli.nli.org.il/F/?func=find-b&local_base=NLX10&find_code=UID&request=987007362775105171', 'http://ccw.iitm.ac.in/?q=IITMHostels/hinfo', 'http://nptel.iitm.ac.in/', 'http://nptel.iitm.ac.in/pdf/NPTEL%20Document.pdf', 'http://placement.iitm.ac.in/academics.html', 'http://respark.iitm.ac.in/', 'http://t5e.iitm.ac.in/2009/12/the-snet-energy-survey-8th-nov/', 'http://www.iitm.ac.in', 'http://www.iitm.ac.in/The%20Institute/', 'http://www.iitm.ac.in/aboutcampus', 'http://www.iitm.ac.in/admissiontests', 'http://www.iitsystem.ac.in/IITcouncil/council.jsp', 'http://nptel.ac.in/course.php', 'http://www.frontline.in/static/html/fl2003/stories/20030214007506500.htm', 'http://ofb.gov.in/download/pr/pr_dgof_interview.pdf', 'http://ssbprize.gov.in/Content/Detail.aspx?AID=531', 'http://www.hri.res.in/~pinaki/', 'http://www.macfound.org/site/c.lkLXJ8MQKrH/b.5458019/k.8448/L_Mahadevan.htm', 'http://www.shaastra.org/2013/main', 'https://admission.aglasem.com/hsee/', 'https://news.careers360.com/iit-madras-dharmendra-pradhan-launch-bs-in-electronic-systems-on-march-6', 'https://www.deccanherald.com/national/south/iit-madras-s-bs-course-wins-wharton-education-award-1175298.html', 'https://scholar.google.com/scholar?q=%22IIT+Madras%22', 'https://www.google.com/search?&q=%22IIT+Madras%22&tbs=bkt:s&tbm=bks', 'https://www.google.com/search?as_eq=wikipedia&q=%22IIT+Madras%22', 'https://www.google.com/search?tbm=nws&q=%22IIT+Madras%22+-wikipedia&tbs=ar:1', 'https://www.google.com/search?tbs=bks:1&q=%22IIT+Madras%22+-wikipedia', 'https://indianexpress.com/article/education/uk-gulf-countries-and-egypt-among-7-locations-on-iit-expansion-list-8102363/', 'https://timesofindia.indiatimes.com/city/chennai/1-million-google-grant-for-artificial-intelligence-centre-at-iit-madras/articleshow/96356642.cms', 'https://timesofindia.indiatimes.com/city/chennai/Its-spit-of-anger-vs-kiss-of-love-at-IIT/articleshow/45183914.cms', 'https://timesofindia.indiatimes.com/city/chennai/iit-madras-diamond-jubilee-celebrations-assume-global-proportions-events-to-be-held-in-83-cities/articleshow/70143608.cms', 'https://timesofindia.indiatimes.com/city/chennai/iit-madras-alumnus-is-now-its-new-director/articleshow/88821542.cms', 'https://timesofindia.indiatimes.com/city/chennai/iit-madras-to-soon-launch-online-bed-programme-in-maths/articleshow/97506475.cms', 'https://www.livemint.com/news/india/iit-madras-raises-700-crore-as-endowment-fund-11616957609084.html', 'https://www.ndtv.com/education/iit-madras-to-hold-open-house-to-showcase-student-innovations-2125282', 'https://www.telegraphindia.com/edugraph/news/iit-madras-won-wharton-qs-reimagine-education-awards-for-data-science-nptel-course/cid/1906351', 'https://www.thehindu.com/education/in-1966-she-was-iit-madras-first-woman-civil-engineering-student/article28759995.ece', 'https://www.thehindu.com/news/cities/chennai/chen-society/golden-jubilee-of-iitms-first-batch-of-graduands/article6218293.ece', 'https://www.thehindu.com/news/cities/chennai/iitm-turns-60-a-chat-with-first-batch-students/article28744533.ece', 'https://www.thenewsminute.com/tamils/287?amp', 'https://www.topuniversities.com/university-rankings/asia-university-rankings/2023', 'https://www.topuniversities.com/university-rankings/world-university-rankings/2023', 'https://www.youtube.com/watch?v=5485lx6wsao', 'https://aleph.nkp.cz/F/?func=find-c&local_base=aut&ccl_term=ica=ko2008435605&CON_LNG=ENG', 'https://www.projekt-mida.de/reflexicon/indo-german-entanglements-in-science-and-technology-the-indian-institute-of-technology-madras/', 'https://cms.caltech.edu/people/mani', 'https://catalogue.bnf.fr/ark:/12148/cb12442559g', 'https://data.bnf.fr/ark:/12148/cb12442559g', 'https://www.idref.fr/033570418', 'https://id.loc.gov/authorities/n50063099', 'https://acr.iitm.ac.in/iitm_in_news/iit-madras-considers-setting-up-campus-in-tanzania-nepal-lanka-too-send-requests/', 'https://diploma.iitm.ac.in/', 'https://www.ee.iitm.ac.in/', 'https://ioe.iitm.ac.in/', 'https://oir.iitm.ac.in/mou/', 'https://research.iitm.ac.in/department_list#:~:text=RESEARCH%20AREAS,-Cellular,%20Molecular%20and&text=Bioinformatics%20and%20Computational%20Biology;%20Biomedical,Molecular%20Genetics%20of%20Plant%20Development.', 'https://respark.iitm.ac.in', 'https://study.iitm.ac.in', 'https://study.iitm.ac.in/course_pages/BSCMA1001.html#9003', 'https://study.iitm.ac.in/ds/', 'https://study.iitm.ac.in./ds/', 'https://study.iitm.ac.in/ds/admissions.html#AD2', 'https://study.iitm.ac.in/ds/course_pages/BSCCS1002.html', 'https://study.iitm.ac.in/ds/course_pages/BSCHS1001.html', 'https://study.iitm.ac.in/ds/course_pages/BSCMA1004.html', 'https://study.iitm.ac.in/ds/paradox.html', 'https://www.iitm.ac.in/', 'https://www.iitm.ac.in/happenings/press-releases-and-coverages/iit-madras-launches-cricket-hackathon-2021', 'https://www.iitm.ac.in/happenings/press-releases-and-coverages/iit-madras-launch-two-year-ma-programmes-economics-english', 'https://www.iitm.ac.in/happenings/press-releases-and-coverages/cargill-announces-scholarship-iit-madras-bs-degree-students', 'https://www.iitm.ac.in/sites/default/files/NIRF/IITMadras20230131-NIRF-OVERALL.pdf', 'https://www.iitm.ac.in/sites/default/files/Others/annual-budget-2021-22.pdf', 'https://www.iitm.ac.in/students', 'https://www.iitm.ac.in/the-institute/administration/academic-administration', 'https://www.isical.ac.in/', 'https://www.collegesearch.in/exam/jee-advanced/article/top-10-iits-in-india-2018-29-174', 'https://eparlib.nic.in/bitstream/123456789/1530/1/lsd_02_06_02-12-1958.pdf', 'https://eparlib.nic.in/bitstream/123456789/1769/1/lsd_02_08_10-08-1959.pdf', 'https://web.archive.org/web/20060427232338/http://www.iitm.ac.in/The%20Institute/', 'https://web.archive.org/web/20090303061238/http://www.hindu.com/2009/02/28/stories/2009022854140500.htm', 'https://web.archive.org/web/20091115092457/http://www.businessweek.com/smallbiz/news/date/9811/e981130.htm', 'https://web.archive.org/web/20100215010549/http://archiv.tu-chemnitz.de/pub/2006/0020/data/MAthesis_EvelynRichter.pdf', 'https://web.archive.org/web/20120113170811/http://www.nptel.iitm.ac.in/', 'https://web.archive.org/web/20120227163617/http://www.oeb.harvard.edu/faculty/mahadevan/mahadevan-oeb.html', 'https://web.archive.org/web/20120623211803/http://www.nss.iitm.ac.in/', 'https://web.archive.org/web/20120904044551/http://nptel.iitm.ac.in/pdf/NPTEL%20Document.pdf', 'https://web.archive.org/web/20130409125154/http://placement.iitm.ac.in/academics.html', 'https://web.archive.org/web/20130707013747/http://t5e.iitm.ac.in/', 'https://web.archive.org/web/20130907050154/http://www.shaastra.org/2013/main', 'https://web.archive.org/web/20140810091111/http://www.iitsystem.ac.in/IITcouncil/council.jsp', 'https://web.archive.org/web/20141103172852/http://t5e.iitm.ac.in/2009/12/the-snet-energy-survey-8th-nov/', 'https://web.archive.org/web/20161128191932/http://nptel.ac.in/course.php', 'https://web.archive.org/web/20190902212630/http://ofb.gov.in/download/pr/pr_dgof_interview.pdf', 'https://ghostarchive.org/varchive/youtube/20211107/5485lx6wsao', 'https://margazhi.iitmparadox.org/', 'https://isni.org/isni/000000012314788X', 'https://isni.org/isni/0000000123151926', 'https://www.jstor.org/action/doBasicSearch?Query=%22IIT+Madras%22&acc=on&wc=on', 'https://www.nirfindia.org/2018/EngineeringRanking.html', 'https://www.nirfindia.org/2019/EngineeringRanking.html', 'https://www.nirfindia.org/2022/EngineeringRanking.html', 'https://www.nirfindia.org/2022/OverallRanking.html', 'https://www.nobelprize.org/prizes/chemistry/2019/goodenough/lecture/', 'https://geohack.toolforge.org/geohack.php?pagename=IIT_Madras&params=12.99151_N_80.23362_E_', 'https://viaf.org/viaf/168123199', 'https://www.wikidata.org/wiki/Q858662#identifiers', 'https://www.worldcat.org/issn/0971-751X', 'https://www.worldcat.org/issn/0971-8257']\n"
          ]
        }
      ]
    },
    {
      "cell_type": "code",
      "source": [
        "#TITLE\n",
        "print(full_page.title)"
      ],
      "metadata": {
        "colab": {
          "base_uri": "https://localhost:8080/"
        },
        "id": "gQWT86CpDxAf",
        "outputId": "2f4e388c-772d-46ae-f96b-a8d1000498df"
      },
      "execution_count": 21,
      "outputs": [
        {
          "output_type": "stream",
          "name": "stdout",
          "text": [
            "IIT Madras\n"
          ]
        }
      ]
    },
    {
      "cell_type": "code",
      "source": [
        "#IMAGES\n",
        "print(full_page.images)\n",
        "print(full_page.images[0])"
      ],
      "metadata": {
        "colab": {
          "base_uri": "https://localhost:8080/"
        },
        "id": "hAOhemjkD6AX",
        "outputId": "2908ead0-608a-4176-9aa9-20917592b8cf"
      },
      "execution_count": 23,
      "outputs": [
        {
          "output_type": "stream",
          "name": "stdout",
          "text": [
            "['https://upload.wikimedia.org/wikipedia/commons/f/f2/Blackbuck_white.jpg', 'https://upload.wikimedia.org/wikipedia/commons/1/1b/Brahmaputra_Hostel.jpg', 'https://upload.wikimedia.org/wikipedia/commons/c/c4/Deer_of_IIT_Madras_masatran_0058_0010.jpeg', 'https://upload.wikimedia.org/wikipedia/commons/f/fa/E-Summit.jpg', 'https://upload.wikimedia.org/wikipedia/commons/e/e4/Godavari_Hostel_Entrance.jpg', 'https://upload.wikimedia.org/wikipedia/commons/0/08/Heritage_Center1.jpg', 'https://upload.wikimedia.org/wikipedia/commons/8/85/Pfeil_links.svg', 'https://upload.wikimedia.org/wikipedia/commons/7/76/Pfeil_oben.svg', 'https://upload.wikimedia.org/wikipedia/commons/c/c5/Pfeil_rechts.svg', 'https://upload.wikimedia.org/wikipedia/commons/c/c3/Pfeil_unten.svg', 'https://upload.wikimedia.org/wikipedia/commons/7/71/Sabarmathi_hostel2.jpg', 'https://upload.wikimedia.org/wikipedia/en/4/4a/Commons-logo.svg', 'https://upload.wikimedia.org/wikipedia/en/f/f2/Edit-clear.svg', 'https://upload.wikimedia.org/wikipedia/en/4/41/Flag_of_India.svg', 'https://upload.wikimedia.org/wikipedia/en/6/69/IIT_Madras_Logo.svg', 'https://upload.wikimedia.org/wikipedia/en/8/8a/OOjs_UI_icon_edit-ltr-progressive.svg', 'https://upload.wikimedia.org/wikipedia/en/9/99/Question_book-new.svg', 'https://upload.wikimedia.org/wikipedia/en/9/96/Symbol_category_class.svg']\n",
            "https://upload.wikimedia.org/wikipedia/commons/f/f2/Blackbuck_white.jpg\n"
          ]
        }
      ]
    },
    {
      "cell_type": "code",
      "source": [
        "#EXTRACCTING HTML CODE\n",
        "import pandas as pd\n",
        "html = wk.page(\"IIT Madras\").html().encode(\"UTF-8\")\n",
        "df = pd.read_html(html)[8]\n",
        "df"
      ],
      "metadata": {
        "colab": {
          "base_uri": "https://localhost:8080/",
          "height": 206
        },
        "id": "6d4Ku8oCEGqu",
        "outputId": "fe8d0f31-b0cb-4492-ebc0-da791cbcd970"
      },
      "execution_count": 25,
      "outputs": [
        {
          "output_type": "execute_result",
          "data": {
            "text/plain": [
              "                      0           1              2\n",
              "0  Guindy National Park       Adyar   Besant Nagar\n",
              "1                   NaN         NaN            NaN\n",
              "2  Guindy National Park  IIT Madras  Thiruvanmiyur\n",
              "3                   NaN         NaN            NaN\n",
              "4             Velachery    Taramani       Taramani"
            ],
            "text/html": [
              "\n",
              "  <div id=\"df-e6dfe39e-b264-4afd-b458-86cb3c9c9dc6\">\n",
              "    <div class=\"colab-df-container\">\n",
              "      <div>\n",
              "<style scoped>\n",
              "    .dataframe tbody tr th:only-of-type {\n",
              "        vertical-align: middle;\n",
              "    }\n",
              "\n",
              "    .dataframe tbody tr th {\n",
              "        vertical-align: top;\n",
              "    }\n",
              "\n",
              "    .dataframe thead th {\n",
              "        text-align: right;\n",
              "    }\n",
              "</style>\n",
              "<table border=\"1\" class=\"dataframe\">\n",
              "  <thead>\n",
              "    <tr style=\"text-align: right;\">\n",
              "      <th></th>\n",
              "      <th>0</th>\n",
              "      <th>1</th>\n",
              "      <th>2</th>\n",
              "    </tr>\n",
              "  </thead>\n",
              "  <tbody>\n",
              "    <tr>\n",
              "      <th>0</th>\n",
              "      <td>Guindy National Park</td>\n",
              "      <td>Adyar</td>\n",
              "      <td>Besant Nagar</td>\n",
              "    </tr>\n",
              "    <tr>\n",
              "      <th>1</th>\n",
              "      <td>NaN</td>\n",
              "      <td>NaN</td>\n",
              "      <td>NaN</td>\n",
              "    </tr>\n",
              "    <tr>\n",
              "      <th>2</th>\n",
              "      <td>Guindy National Park</td>\n",
              "      <td>IIT Madras</td>\n",
              "      <td>Thiruvanmiyur</td>\n",
              "    </tr>\n",
              "    <tr>\n",
              "      <th>3</th>\n",
              "      <td>NaN</td>\n",
              "      <td>NaN</td>\n",
              "      <td>NaN</td>\n",
              "    </tr>\n",
              "    <tr>\n",
              "      <th>4</th>\n",
              "      <td>Velachery</td>\n",
              "      <td>Taramani</td>\n",
              "      <td>Taramani</td>\n",
              "    </tr>\n",
              "  </tbody>\n",
              "</table>\n",
              "</div>\n",
              "      <button class=\"colab-df-convert\" onclick=\"convertToInteractive('df-e6dfe39e-b264-4afd-b458-86cb3c9c9dc6')\"\n",
              "              title=\"Convert this dataframe to an interactive table.\"\n",
              "              style=\"display:none;\">\n",
              "        \n",
              "  <svg xmlns=\"http://www.w3.org/2000/svg\" height=\"24px\"viewBox=\"0 0 24 24\"\n",
              "       width=\"24px\">\n",
              "    <path d=\"M0 0h24v24H0V0z\" fill=\"none\"/>\n",
              "    <path d=\"M18.56 5.44l.94 2.06.94-2.06 2.06-.94-2.06-.94-.94-2.06-.94 2.06-2.06.94zm-11 1L8.5 8.5l.94-2.06 2.06-.94-2.06-.94L8.5 2.5l-.94 2.06-2.06.94zm10 10l.94 2.06.94-2.06 2.06-.94-2.06-.94-.94-2.06-.94 2.06-2.06.94z\"/><path d=\"M17.41 7.96l-1.37-1.37c-.4-.4-.92-.59-1.43-.59-.52 0-1.04.2-1.43.59L10.3 9.45l-7.72 7.72c-.78.78-.78 2.05 0 2.83L4 21.41c.39.39.9.59 1.41.59.51 0 1.02-.2 1.41-.59l7.78-7.78 2.81-2.81c.8-.78.8-2.07 0-2.86zM5.41 20L4 18.59l7.72-7.72 1.47 1.35L5.41 20z\"/>\n",
              "  </svg>\n",
              "      </button>\n",
              "      \n",
              "  <style>\n",
              "    .colab-df-container {\n",
              "      display:flex;\n",
              "      flex-wrap:wrap;\n",
              "      gap: 12px;\n",
              "    }\n",
              "\n",
              "    .colab-df-convert {\n",
              "      background-color: #E8F0FE;\n",
              "      border: none;\n",
              "      border-radius: 50%;\n",
              "      cursor: pointer;\n",
              "      display: none;\n",
              "      fill: #1967D2;\n",
              "      height: 32px;\n",
              "      padding: 0 0 0 0;\n",
              "      width: 32px;\n",
              "    }\n",
              "\n",
              "    .colab-df-convert:hover {\n",
              "      background-color: #E2EBFA;\n",
              "      box-shadow: 0px 1px 2px rgba(60, 64, 67, 0.3), 0px 1px 3px 1px rgba(60, 64, 67, 0.15);\n",
              "      fill: #174EA6;\n",
              "    }\n",
              "\n",
              "    [theme=dark] .colab-df-convert {\n",
              "      background-color: #3B4455;\n",
              "      fill: #D2E3FC;\n",
              "    }\n",
              "\n",
              "    [theme=dark] .colab-df-convert:hover {\n",
              "      background-color: #434B5C;\n",
              "      box-shadow: 0px 1px 3px 1px rgba(0, 0, 0, 0.15);\n",
              "      filter: drop-shadow(0px 1px 2px rgba(0, 0, 0, 0.3));\n",
              "      fill: #FFFFFF;\n",
              "    }\n",
              "  </style>\n",
              "\n",
              "      <script>\n",
              "        const buttonEl =\n",
              "          document.querySelector('#df-e6dfe39e-b264-4afd-b458-86cb3c9c9dc6 button.colab-df-convert');\n",
              "        buttonEl.style.display =\n",
              "          google.colab.kernel.accessAllowed ? 'block' : 'none';\n",
              "\n",
              "        async function convertToInteractive(key) {\n",
              "          const element = document.querySelector('#df-e6dfe39e-b264-4afd-b458-86cb3c9c9dc6');\n",
              "          const dataTable =\n",
              "            await google.colab.kernel.invokeFunction('convertToInteractive',\n",
              "                                                     [key], {});\n",
              "          if (!dataTable) return;\n",
              "\n",
              "          const docLinkHtml = 'Like what you see? Visit the ' +\n",
              "            '<a target=\"_blank\" href=https://colab.research.google.com/notebooks/data_table.ipynb>data table notebook</a>'\n",
              "            + ' to learn more about interactive tables.';\n",
              "          element.innerHTML = '';\n",
              "          dataTable['output_type'] = 'display_data';\n",
              "          await google.colab.output.renderOutput(dataTable, element);\n",
              "          const docLink = document.createElement('div');\n",
              "          docLink.innerHTML = docLinkHtml;\n",
              "          element.appendChild(docLink);\n",
              "        }\n",
              "      </script>\n",
              "    </div>\n",
              "  </div>\n",
              "  "
            ]
          },
          "metadata": {},
          "execution_count": 25
        }
      ]
    }
  ]
}